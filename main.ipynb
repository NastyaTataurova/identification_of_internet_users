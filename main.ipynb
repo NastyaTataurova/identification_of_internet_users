{
 "cells": [
  {
   "cell_type": "markdown",
   "metadata": {},
   "source": [
    "# <center> Identification of Internet users. Report"
   ]
  },
  {
   "cell_type": "markdown",
   "metadata": {},
   "source": [
    "## <center> Идентификация интернет-пользователей"
   ]
  },
  {
   "cell_type": "code",
   "execution_count": 101,
   "metadata": {},
   "outputs": [],
   "source": [
    "import pandas as pd\n",
    "import os\n",
    "import matplotlib.pyplot as plt\n",
    "import numpy as np\n",
    "from datetime import datetime\n",
    "import statistics as st\n",
    "from collections import OrderedDict\n",
    "from sklearn.feature_extraction.text import CountVectorizer\n",
    "from sklearn.linear_model import LogisticRegression,SGDClassifier\n",
    "from sklearn.model_selection import GridSearchCV\n",
    "from sklearn.metrics import roc_auc_score\n",
    "from catboost import CatBoostClassifier\n",
    "import warnings\n",
    "warnings.filterwarnings('ignore')"
   ]
  },
  {
   "cell_type": "markdown",
   "metadata": {},
   "source": [
    "### Цели и задачи проекта, описание исходных и обработанных данных и признаков"
   ]
  },
  {
   "cell_type": "markdown",
   "metadata": {},
   "source": [
    "Цель проекта – решить задачу идентификации пользователя по его поведению в сети (интернете) [\"Catch Me If You Can (\"Alice\")\"](https://www.kaggle.com/c/catch-me-if-you-can-intruder-detection-through-webpage-session-tracking2).\n",
    "\n",
    "Задача проекта – для каждой сессии идентифицировать пользователя по последовательности из нескольких посещенных им подряд веб-сайтов: по сеансу из веб-страниц (последовательности веб-страниц, которые последовательно посещает один и тот же человек) предсказывать, сессия принадлежит Алисе или другому пользователю.\n",
    "\n",
    "Исходные данные.\n",
    "Тренировочный набор данных состоит из призанков:\n",
    "* site_i - идентификаторы сайтов в сессии;\n",
    "* time_j - время посещения соответствующего сайта;\n",
    "* target - отметка принадлежности сессии Элис.\n",
    "\n",
    "Всего в тренировочном датасете 21 признак и 253561 сессий."
   ]
  },
  {
   "cell_type": "code",
   "execution_count": 164,
   "metadata": {},
   "outputs": [
    {
     "data": {
      "text/html": [
       "<div>\n",
       "<style scoped>\n",
       "    .dataframe tbody tr th:only-of-type {\n",
       "        vertical-align: middle;\n",
       "    }\n",
       "\n",
       "    .dataframe tbody tr th {\n",
       "        vertical-align: top;\n",
       "    }\n",
       "\n",
       "    .dataframe thead th {\n",
       "        text-align: right;\n",
       "    }\n",
       "</style>\n",
       "<table border=\"1\" class=\"dataframe\">\n",
       "  <thead>\n",
       "    <tr style=\"text-align: right;\">\n",
       "      <th></th>\n",
       "      <th>session_id</th>\n",
       "      <th>site1</th>\n",
       "      <th>time1</th>\n",
       "      <th>site2</th>\n",
       "      <th>time2</th>\n",
       "      <th>site3</th>\n",
       "      <th>time3</th>\n",
       "      <th>site4</th>\n",
       "      <th>time4</th>\n",
       "      <th>site5</th>\n",
       "      <th>...</th>\n",
       "      <th>time6</th>\n",
       "      <th>site7</th>\n",
       "      <th>time7</th>\n",
       "      <th>site8</th>\n",
       "      <th>time8</th>\n",
       "      <th>site9</th>\n",
       "      <th>time9</th>\n",
       "      <th>site10</th>\n",
       "      <th>time10</th>\n",
       "      <th>target</th>\n",
       "    </tr>\n",
       "  </thead>\n",
       "  <tbody>\n",
       "    <tr>\n",
       "      <th>0</th>\n",
       "      <td>1</td>\n",
       "      <td>718</td>\n",
       "      <td>2014-02-20 10:02:45</td>\n",
       "      <td>NaN</td>\n",
       "      <td>NaN</td>\n",
       "      <td>NaN</td>\n",
       "      <td>NaN</td>\n",
       "      <td>NaN</td>\n",
       "      <td>NaN</td>\n",
       "      <td>NaN</td>\n",
       "      <td>...</td>\n",
       "      <td>NaN</td>\n",
       "      <td>NaN</td>\n",
       "      <td>NaN</td>\n",
       "      <td>NaN</td>\n",
       "      <td>NaN</td>\n",
       "      <td>NaN</td>\n",
       "      <td>NaN</td>\n",
       "      <td>NaN</td>\n",
       "      <td>NaN</td>\n",
       "      <td>0</td>\n",
       "    </tr>\n",
       "    <tr>\n",
       "      <th>1</th>\n",
       "      <td>2</td>\n",
       "      <td>890</td>\n",
       "      <td>2014-02-22 11:19:50</td>\n",
       "      <td>941.0</td>\n",
       "      <td>2014-02-22 11:19:50</td>\n",
       "      <td>3847.0</td>\n",
       "      <td>2014-02-22 11:19:51</td>\n",
       "      <td>941.0</td>\n",
       "      <td>2014-02-22 11:19:51</td>\n",
       "      <td>942.0</td>\n",
       "      <td>...</td>\n",
       "      <td>2014-02-22 11:19:51</td>\n",
       "      <td>3847.0</td>\n",
       "      <td>2014-02-22 11:19:52</td>\n",
       "      <td>3846.0</td>\n",
       "      <td>2014-02-22 11:19:52</td>\n",
       "      <td>1516.0</td>\n",
       "      <td>2014-02-22 11:20:15</td>\n",
       "      <td>1518.0</td>\n",
       "      <td>2014-02-22 11:20:16</td>\n",
       "      <td>0</td>\n",
       "    </tr>\n",
       "    <tr>\n",
       "      <th>2</th>\n",
       "      <td>3</td>\n",
       "      <td>14769</td>\n",
       "      <td>2013-12-16 16:40:17</td>\n",
       "      <td>39.0</td>\n",
       "      <td>2013-12-16 16:40:18</td>\n",
       "      <td>14768.0</td>\n",
       "      <td>2013-12-16 16:40:19</td>\n",
       "      <td>14769.0</td>\n",
       "      <td>2013-12-16 16:40:19</td>\n",
       "      <td>37.0</td>\n",
       "      <td>...</td>\n",
       "      <td>2013-12-16 16:40:19</td>\n",
       "      <td>14768.0</td>\n",
       "      <td>2013-12-16 16:40:20</td>\n",
       "      <td>14768.0</td>\n",
       "      <td>2013-12-16 16:40:21</td>\n",
       "      <td>14768.0</td>\n",
       "      <td>2013-12-16 16:40:22</td>\n",
       "      <td>14768.0</td>\n",
       "      <td>2013-12-16 16:40:24</td>\n",
       "      <td>0</td>\n",
       "    </tr>\n",
       "    <tr>\n",
       "      <th>3</th>\n",
       "      <td>4</td>\n",
       "      <td>782</td>\n",
       "      <td>2014-03-28 10:52:12</td>\n",
       "      <td>782.0</td>\n",
       "      <td>2014-03-28 10:52:42</td>\n",
       "      <td>782.0</td>\n",
       "      <td>2014-03-28 10:53:12</td>\n",
       "      <td>782.0</td>\n",
       "      <td>2014-03-28 10:53:42</td>\n",
       "      <td>782.0</td>\n",
       "      <td>...</td>\n",
       "      <td>2014-03-28 10:54:42</td>\n",
       "      <td>782.0</td>\n",
       "      <td>2014-03-28 10:55:12</td>\n",
       "      <td>782.0</td>\n",
       "      <td>2014-03-28 10:55:42</td>\n",
       "      <td>782.0</td>\n",
       "      <td>2014-03-28 10:56:12</td>\n",
       "      <td>782.0</td>\n",
       "      <td>2014-03-28 10:56:42</td>\n",
       "      <td>0</td>\n",
       "    </tr>\n",
       "    <tr>\n",
       "      <th>4</th>\n",
       "      <td>5</td>\n",
       "      <td>22</td>\n",
       "      <td>2014-02-28 10:53:05</td>\n",
       "      <td>177.0</td>\n",
       "      <td>2014-02-28 10:55:22</td>\n",
       "      <td>175.0</td>\n",
       "      <td>2014-02-28 10:55:22</td>\n",
       "      <td>178.0</td>\n",
       "      <td>2014-02-28 10:55:23</td>\n",
       "      <td>177.0</td>\n",
       "      <td>...</td>\n",
       "      <td>2014-02-28 10:55:59</td>\n",
       "      <td>175.0</td>\n",
       "      <td>2014-02-28 10:55:59</td>\n",
       "      <td>177.0</td>\n",
       "      <td>2014-02-28 10:55:59</td>\n",
       "      <td>177.0</td>\n",
       "      <td>2014-02-28 10:57:06</td>\n",
       "      <td>178.0</td>\n",
       "      <td>2014-02-28 10:57:11</td>\n",
       "      <td>0</td>\n",
       "    </tr>\n",
       "  </tbody>\n",
       "</table>\n",
       "<p>5 rows × 22 columns</p>\n",
       "</div>"
      ],
      "text/plain": [
       "   session_id  site1                time1  site2                time2  \\\n",
       "0           1    718  2014-02-20 10:02:45    NaN                  NaN   \n",
       "1           2    890  2014-02-22 11:19:50  941.0  2014-02-22 11:19:50   \n",
       "2           3  14769  2013-12-16 16:40:17   39.0  2013-12-16 16:40:18   \n",
       "3           4    782  2014-03-28 10:52:12  782.0  2014-03-28 10:52:42   \n",
       "4           5     22  2014-02-28 10:53:05  177.0  2014-02-28 10:55:22   \n",
       "\n",
       "     site3                time3    site4                time4  site5  ...  \\\n",
       "0      NaN                  NaN      NaN                  NaN    NaN  ...   \n",
       "1   3847.0  2014-02-22 11:19:51    941.0  2014-02-22 11:19:51  942.0  ...   \n",
       "2  14768.0  2013-12-16 16:40:19  14769.0  2013-12-16 16:40:19   37.0  ...   \n",
       "3    782.0  2014-03-28 10:53:12    782.0  2014-03-28 10:53:42  782.0  ...   \n",
       "4    175.0  2014-02-28 10:55:22    178.0  2014-02-28 10:55:23  177.0  ...   \n",
       "\n",
       "                 time6    site7                time7    site8  \\\n",
       "0                  NaN      NaN                  NaN      NaN   \n",
       "1  2014-02-22 11:19:51   3847.0  2014-02-22 11:19:52   3846.0   \n",
       "2  2013-12-16 16:40:19  14768.0  2013-12-16 16:40:20  14768.0   \n",
       "3  2014-03-28 10:54:42    782.0  2014-03-28 10:55:12    782.0   \n",
       "4  2014-02-28 10:55:59    175.0  2014-02-28 10:55:59    177.0   \n",
       "\n",
       "                 time8    site9                time9   site10  \\\n",
       "0                  NaN      NaN                  NaN      NaN   \n",
       "1  2014-02-22 11:19:52   1516.0  2014-02-22 11:20:15   1518.0   \n",
       "2  2013-12-16 16:40:21  14768.0  2013-12-16 16:40:22  14768.0   \n",
       "3  2014-03-28 10:55:42    782.0  2014-03-28 10:56:12    782.0   \n",
       "4  2014-02-28 10:55:59    177.0  2014-02-28 10:57:06    178.0   \n",
       "\n",
       "                time10  target  \n",
       "0                  NaN       0  \n",
       "1  2014-02-22 11:20:16       0  \n",
       "2  2013-12-16 16:40:24       0  \n",
       "3  2014-03-28 10:56:42       0  \n",
       "4  2014-02-28 10:57:11       0  \n",
       "\n",
       "[5 rows x 22 columns]"
      ]
     },
     "execution_count": 164,
     "metadata": {},
     "output_type": "execute_result"
    }
   ],
   "source": [
    "PATH_TO_DATA = 'capstone_user_identification'\n",
    "\n",
    "train_df = pd.read_csv(os.path.join(PATH_TO_DATA, 'train_sessions.csv'))\n",
    "test_df = pd.read_csv(os.path.join(PATH_TO_DATA, 'test_sessions.csv'))\n",
    "\n",
    "train_df.head()"
   ]
  },
  {
   "cell_type": "code",
   "execution_count": 103,
   "metadata": {},
   "outputs": [
    {
     "name": "stdout",
     "output_type": "stream",
     "text": [
      "Размер train_df: (253561, 22),\n",
      "Размер test_df: (82797, 21)\n"
     ]
    }
   ],
   "source": [
    "print(f'Размер train_df: {train_df.shape},\\nРазмер test_df: {test_df.shape}')"
   ]
  },
  {
   "cell_type": "markdown",
   "metadata": {},
   "source": [
    "### Первичный анализ признаков"
   ]
  },
  {
   "cell_type": "code",
   "execution_count": 104,
   "metadata": {},
   "outputs": [
    {
     "name": "stdout",
     "output_type": "stream",
     "text": [
      "<class 'pandas.core.frame.DataFrame'>\n",
      "RangeIndex: 253561 entries, 0 to 253560\n",
      "Data columns (total 22 columns):\n",
      " #   Column      Non-Null Count   Dtype  \n",
      "---  ------      --------------   -----  \n",
      " 0   session_id  253561 non-null  int64  \n",
      " 1   site1       253561 non-null  int64  \n",
      " 2   time1       253561 non-null  object \n",
      " 3   site2       250098 non-null  float64\n",
      " 4   time2       250098 non-null  object \n",
      " 5   site3       246919 non-null  float64\n",
      " 6   time3       246919 non-null  object \n",
      " 7   site4       244321 non-null  float64\n",
      " 8   time4       244321 non-null  object \n",
      " 9   site5       241829 non-null  float64\n",
      " 10  time5       241829 non-null  object \n",
      " 11  site6       239495 non-null  float64\n",
      " 12  time6       239495 non-null  object \n",
      " 13  site7       237297 non-null  float64\n",
      " 14  time7       237297 non-null  object \n",
      " 15  site8       235224 non-null  float64\n",
      " 16  time8       235224 non-null  object \n",
      " 17  site9       233084 non-null  float64\n",
      " 18  time9       233084 non-null  object \n",
      " 19  site10      231052 non-null  float64\n",
      " 20  time10      231052 non-null  object \n",
      " 21  target      253561 non-null  int64  \n",
      "dtypes: float64(9), int64(3), object(10)\n",
      "memory usage: 42.6+ MB\n"
     ]
    }
   ],
   "source": [
    "train_df.info()"
   ]
  },
  {
   "cell_type": "code",
   "execution_count": 105,
   "metadata": {},
   "outputs": [
    {
     "data": {
      "text/html": [
       "<div>\n",
       "<style scoped>\n",
       "    .dataframe tbody tr th:only-of-type {\n",
       "        vertical-align: middle;\n",
       "    }\n",
       "\n",
       "    .dataframe tbody tr th {\n",
       "        vertical-align: top;\n",
       "    }\n",
       "\n",
       "    .dataframe thead th {\n",
       "        text-align: right;\n",
       "    }\n",
       "</style>\n",
       "<table border=\"1\" class=\"dataframe\">\n",
       "  <thead>\n",
       "    <tr style=\"text-align: right;\">\n",
       "      <th></th>\n",
       "      <th>session_id</th>\n",
       "      <th>site1</th>\n",
       "      <th>site2</th>\n",
       "      <th>site3</th>\n",
       "      <th>site4</th>\n",
       "      <th>site5</th>\n",
       "      <th>site6</th>\n",
       "      <th>site7</th>\n",
       "      <th>site8</th>\n",
       "      <th>site9</th>\n",
       "      <th>site10</th>\n",
       "      <th>target</th>\n",
       "    </tr>\n",
       "  </thead>\n",
       "  <tbody>\n",
       "    <tr>\n",
       "      <th>count</th>\n",
       "      <td>253561.00000</td>\n",
       "      <td>253561.000000</td>\n",
       "      <td>250098.000000</td>\n",
       "      <td>246919.000000</td>\n",
       "      <td>244321.000000</td>\n",
       "      <td>241829.000000</td>\n",
       "      <td>239495.000000</td>\n",
       "      <td>237297.000000</td>\n",
       "      <td>235224.000000</td>\n",
       "      <td>233084.000000</td>\n",
       "      <td>231052.000000</td>\n",
       "      <td>253561.000000</td>\n",
       "    </tr>\n",
       "    <tr>\n",
       "      <th>mean</th>\n",
       "      <td>126781.00000</td>\n",
       "      <td>3243.550144</td>\n",
       "      <td>3272.400883</td>\n",
       "      <td>3303.987757</td>\n",
       "      <td>3325.109422</td>\n",
       "      <td>3343.406035</td>\n",
       "      <td>3352.312637</td>\n",
       "      <td>3395.546771</td>\n",
       "      <td>3430.157765</td>\n",
       "      <td>3438.400088</td>\n",
       "      <td>3460.388861</td>\n",
       "      <td>0.009059</td>\n",
       "    </tr>\n",
       "    <tr>\n",
       "      <th>std</th>\n",
       "      <td>73196.90014</td>\n",
       "      <td>7247.006212</td>\n",
       "      <td>7307.480404</td>\n",
       "      <td>7347.809918</td>\n",
       "      <td>7371.245606</td>\n",
       "      <td>7379.758550</td>\n",
       "      <td>7380.413775</td>\n",
       "      <td>7435.727671</td>\n",
       "      <td>7473.417900</td>\n",
       "      <td>7471.062652</td>\n",
       "      <td>7492.447548</td>\n",
       "      <td>0.094747</td>\n",
       "    </tr>\n",
       "    <tr>\n",
       "      <th>min</th>\n",
       "      <td>1.00000</td>\n",
       "      <td>1.000000</td>\n",
       "      <td>1.000000</td>\n",
       "      <td>1.000000</td>\n",
       "      <td>1.000000</td>\n",
       "      <td>1.000000</td>\n",
       "      <td>1.000000</td>\n",
       "      <td>1.000000</td>\n",
       "      <td>1.000000</td>\n",
       "      <td>1.000000</td>\n",
       "      <td>1.000000</td>\n",
       "      <td>0.000000</td>\n",
       "    </tr>\n",
       "    <tr>\n",
       "      <th>25%</th>\n",
       "      <td>63391.00000</td>\n",
       "      <td>53.000000</td>\n",
       "      <td>53.000000</td>\n",
       "      <td>53.000000</td>\n",
       "      <td>52.000000</td>\n",
       "      <td>52.000000</td>\n",
       "      <td>52.000000</td>\n",
       "      <td>55.000000</td>\n",
       "      <td>55.000000</td>\n",
       "      <td>55.000000</td>\n",
       "      <td>55.000000</td>\n",
       "      <td>0.000000</td>\n",
       "    </tr>\n",
       "    <tr>\n",
       "      <th>50%</th>\n",
       "      <td>126781.00000</td>\n",
       "      <td>677.000000</td>\n",
       "      <td>677.000000</td>\n",
       "      <td>677.000000</td>\n",
       "      <td>677.000000</td>\n",
       "      <td>678.000000</td>\n",
       "      <td>679.000000</td>\n",
       "      <td>679.000000</td>\n",
       "      <td>704.000000</td>\n",
       "      <td>733.000000</td>\n",
       "      <td>733.000000</td>\n",
       "      <td>0.000000</td>\n",
       "    </tr>\n",
       "    <tr>\n",
       "      <th>75%</th>\n",
       "      <td>190171.00000</td>\n",
       "      <td>1980.000000</td>\n",
       "      <td>1980.000000</td>\n",
       "      <td>1986.500000</td>\n",
       "      <td>1995.000000</td>\n",
       "      <td>2054.000000</td>\n",
       "      <td>2077.000000</td>\n",
       "      <td>2197.000000</td>\n",
       "      <td>2287.000000</td>\n",
       "      <td>2366.000000</td>\n",
       "      <td>2403.000000</td>\n",
       "      <td>0.000000</td>\n",
       "    </tr>\n",
       "    <tr>\n",
       "      <th>max</th>\n",
       "      <td>253561.00000</td>\n",
       "      <td>41601.000000</td>\n",
       "      <td>41600.000000</td>\n",
       "      <td>41599.000000</td>\n",
       "      <td>41599.000000</td>\n",
       "      <td>41599.000000</td>\n",
       "      <td>41600.000000</td>\n",
       "      <td>41600.000000</td>\n",
       "      <td>41601.000000</td>\n",
       "      <td>41601.000000</td>\n",
       "      <td>41601.000000</td>\n",
       "      <td>1.000000</td>\n",
       "    </tr>\n",
       "  </tbody>\n",
       "</table>\n",
       "</div>"
      ],
      "text/plain": [
       "         session_id          site1          site2          site3  \\\n",
       "count  253561.00000  253561.000000  250098.000000  246919.000000   \n",
       "mean   126781.00000    3243.550144    3272.400883    3303.987757   \n",
       "std     73196.90014    7247.006212    7307.480404    7347.809918   \n",
       "min         1.00000       1.000000       1.000000       1.000000   \n",
       "25%     63391.00000      53.000000      53.000000      53.000000   \n",
       "50%    126781.00000     677.000000     677.000000     677.000000   \n",
       "75%    190171.00000    1980.000000    1980.000000    1986.500000   \n",
       "max    253561.00000   41601.000000   41600.000000   41599.000000   \n",
       "\n",
       "               site4          site5          site6          site7  \\\n",
       "count  244321.000000  241829.000000  239495.000000  237297.000000   \n",
       "mean     3325.109422    3343.406035    3352.312637    3395.546771   \n",
       "std      7371.245606    7379.758550    7380.413775    7435.727671   \n",
       "min         1.000000       1.000000       1.000000       1.000000   \n",
       "25%        52.000000      52.000000      52.000000      55.000000   \n",
       "50%       677.000000     678.000000     679.000000     679.000000   \n",
       "75%      1995.000000    2054.000000    2077.000000    2197.000000   \n",
       "max     41599.000000   41599.000000   41600.000000   41600.000000   \n",
       "\n",
       "               site8          site9         site10         target  \n",
       "count  235224.000000  233084.000000  231052.000000  253561.000000  \n",
       "mean     3430.157765    3438.400088    3460.388861       0.009059  \n",
       "std      7473.417900    7471.062652    7492.447548       0.094747  \n",
       "min         1.000000       1.000000       1.000000       0.000000  \n",
       "25%        55.000000      55.000000      55.000000       0.000000  \n",
       "50%       704.000000     733.000000     733.000000       0.000000  \n",
       "75%      2287.000000    2366.000000    2403.000000       0.000000  \n",
       "max     41601.000000   41601.000000   41601.000000       1.000000  "
      ]
     },
     "execution_count": 105,
     "metadata": {},
     "output_type": "execute_result"
    }
   ],
   "source": [
    "train_df.describe()"
   ]
  },
  {
   "cell_type": "code",
   "execution_count": 106,
   "metadata": {},
   "outputs": [
    {
     "data": {
      "text/html": [
       "<div>\n",
       "<style scoped>\n",
       "    .dataframe tbody tr th:only-of-type {\n",
       "        vertical-align: middle;\n",
       "    }\n",
       "\n",
       "    .dataframe tbody tr th {\n",
       "        vertical-align: top;\n",
       "    }\n",
       "\n",
       "    .dataframe thead th {\n",
       "        text-align: right;\n",
       "    }\n",
       "</style>\n",
       "<table border=\"1\" class=\"dataframe\">\n",
       "  <thead>\n",
       "    <tr style=\"text-align: right;\">\n",
       "      <th></th>\n",
       "      <th>session_id</th>\n",
       "      <th>site1</th>\n",
       "      <th>site2</th>\n",
       "      <th>site3</th>\n",
       "      <th>site4</th>\n",
       "      <th>site5</th>\n",
       "      <th>site6</th>\n",
       "      <th>site7</th>\n",
       "      <th>site8</th>\n",
       "      <th>site9</th>\n",
       "      <th>site10</th>\n",
       "      <th>target</th>\n",
       "    </tr>\n",
       "  </thead>\n",
       "  <tbody>\n",
       "    <tr>\n",
       "      <th>session_id</th>\n",
       "      <td>1.000000</td>\n",
       "      <td>0.000148</td>\n",
       "      <td>-0.000555</td>\n",
       "      <td>0.002418</td>\n",
       "      <td>0.000069</td>\n",
       "      <td>-0.000249</td>\n",
       "      <td>-0.000506</td>\n",
       "      <td>0.001587</td>\n",
       "      <td>-0.001358</td>\n",
       "      <td>-0.001100</td>\n",
       "      <td>-0.000130</td>\n",
       "      <td>-0.000825</td>\n",
       "    </tr>\n",
       "    <tr>\n",
       "      <th>site1</th>\n",
       "      <td>0.000148</td>\n",
       "      <td>1.000000</td>\n",
       "      <td>0.514902</td>\n",
       "      <td>0.500357</td>\n",
       "      <td>0.478220</td>\n",
       "      <td>0.453853</td>\n",
       "      <td>0.435732</td>\n",
       "      <td>0.424916</td>\n",
       "      <td>0.412857</td>\n",
       "      <td>0.401177</td>\n",
       "      <td>0.389907</td>\n",
       "      <td>-0.001635</td>\n",
       "    </tr>\n",
       "    <tr>\n",
       "      <th>site2</th>\n",
       "      <td>-0.000555</td>\n",
       "      <td>0.514902</td>\n",
       "      <td>1.000000</td>\n",
       "      <td>0.527593</td>\n",
       "      <td>0.500292</td>\n",
       "      <td>0.479208</td>\n",
       "      <td>0.458275</td>\n",
       "      <td>0.440135</td>\n",
       "      <td>0.428706</td>\n",
       "      <td>0.412053</td>\n",
       "      <td>0.404113</td>\n",
       "      <td>-0.003593</td>\n",
       "    </tr>\n",
       "    <tr>\n",
       "      <th>site3</th>\n",
       "      <td>0.002418</td>\n",
       "      <td>0.500357</td>\n",
       "      <td>0.527593</td>\n",
       "      <td>1.000000</td>\n",
       "      <td>0.527657</td>\n",
       "      <td>0.498688</td>\n",
       "      <td>0.473901</td>\n",
       "      <td>0.456356</td>\n",
       "      <td>0.441512</td>\n",
       "      <td>0.424647</td>\n",
       "      <td>0.413347</td>\n",
       "      <td>-0.004641</td>\n",
       "    </tr>\n",
       "    <tr>\n",
       "      <th>site4</th>\n",
       "      <td>0.000069</td>\n",
       "      <td>0.478220</td>\n",
       "      <td>0.500292</td>\n",
       "      <td>0.527657</td>\n",
       "      <td>1.000000</td>\n",
       "      <td>0.524368</td>\n",
       "      <td>0.495692</td>\n",
       "      <td>0.474926</td>\n",
       "      <td>0.456774</td>\n",
       "      <td>0.435884</td>\n",
       "      <td>0.426124</td>\n",
       "      <td>-0.003328</td>\n",
       "    </tr>\n",
       "    <tr>\n",
       "      <th>site5</th>\n",
       "      <td>-0.000249</td>\n",
       "      <td>0.453853</td>\n",
       "      <td>0.479208</td>\n",
       "      <td>0.498688</td>\n",
       "      <td>0.524368</td>\n",
       "      <td>1.000000</td>\n",
       "      <td>0.515853</td>\n",
       "      <td>0.493816</td>\n",
       "      <td>0.473958</td>\n",
       "      <td>0.453116</td>\n",
       "      <td>0.435112</td>\n",
       "      <td>-0.005701</td>\n",
       "    </tr>\n",
       "    <tr>\n",
       "      <th>site6</th>\n",
       "      <td>-0.000506</td>\n",
       "      <td>0.435732</td>\n",
       "      <td>0.458275</td>\n",
       "      <td>0.473901</td>\n",
       "      <td>0.495692</td>\n",
       "      <td>0.515853</td>\n",
       "      <td>1.000000</td>\n",
       "      <td>0.514644</td>\n",
       "      <td>0.492870</td>\n",
       "      <td>0.462805</td>\n",
       "      <td>0.448115</td>\n",
       "      <td>-0.004205</td>\n",
       "    </tr>\n",
       "    <tr>\n",
       "      <th>site7</th>\n",
       "      <td>0.001587</td>\n",
       "      <td>0.424916</td>\n",
       "      <td>0.440135</td>\n",
       "      <td>0.456356</td>\n",
       "      <td>0.474926</td>\n",
       "      <td>0.493816</td>\n",
       "      <td>0.514644</td>\n",
       "      <td>1.000000</td>\n",
       "      <td>0.519706</td>\n",
       "      <td>0.493182</td>\n",
       "      <td>0.469826</td>\n",
       "      <td>-0.002898</td>\n",
       "    </tr>\n",
       "    <tr>\n",
       "      <th>site8</th>\n",
       "      <td>-0.001358</td>\n",
       "      <td>0.412857</td>\n",
       "      <td>0.428706</td>\n",
       "      <td>0.441512</td>\n",
       "      <td>0.456774</td>\n",
       "      <td>0.473958</td>\n",
       "      <td>0.492870</td>\n",
       "      <td>0.519706</td>\n",
       "      <td>1.000000</td>\n",
       "      <td>0.513953</td>\n",
       "      <td>0.488192</td>\n",
       "      <td>-0.006590</td>\n",
       "    </tr>\n",
       "    <tr>\n",
       "      <th>site9</th>\n",
       "      <td>-0.001100</td>\n",
       "      <td>0.401177</td>\n",
       "      <td>0.412053</td>\n",
       "      <td>0.424647</td>\n",
       "      <td>0.435884</td>\n",
       "      <td>0.453116</td>\n",
       "      <td>0.462805</td>\n",
       "      <td>0.493182</td>\n",
       "      <td>0.513953</td>\n",
       "      <td>1.000000</td>\n",
       "      <td>0.511839</td>\n",
       "      <td>-0.004619</td>\n",
       "    </tr>\n",
       "    <tr>\n",
       "      <th>site10</th>\n",
       "      <td>-0.000130</td>\n",
       "      <td>0.389907</td>\n",
       "      <td>0.404113</td>\n",
       "      <td>0.413347</td>\n",
       "      <td>0.426124</td>\n",
       "      <td>0.435112</td>\n",
       "      <td>0.448115</td>\n",
       "      <td>0.469826</td>\n",
       "      <td>0.488192</td>\n",
       "      <td>0.511839</td>\n",
       "      <td>1.000000</td>\n",
       "      <td>-0.006350</td>\n",
       "    </tr>\n",
       "    <tr>\n",
       "      <th>target</th>\n",
       "      <td>-0.000825</td>\n",
       "      <td>-0.001635</td>\n",
       "      <td>-0.003593</td>\n",
       "      <td>-0.004641</td>\n",
       "      <td>-0.003328</td>\n",
       "      <td>-0.005701</td>\n",
       "      <td>-0.004205</td>\n",
       "      <td>-0.002898</td>\n",
       "      <td>-0.006590</td>\n",
       "      <td>-0.004619</td>\n",
       "      <td>-0.006350</td>\n",
       "      <td>1.000000</td>\n",
       "    </tr>\n",
       "  </tbody>\n",
       "</table>\n",
       "</div>"
      ],
      "text/plain": [
       "            session_id     site1     site2     site3     site4     site5  \\\n",
       "session_id    1.000000  0.000148 -0.000555  0.002418  0.000069 -0.000249   \n",
       "site1         0.000148  1.000000  0.514902  0.500357  0.478220  0.453853   \n",
       "site2        -0.000555  0.514902  1.000000  0.527593  0.500292  0.479208   \n",
       "site3         0.002418  0.500357  0.527593  1.000000  0.527657  0.498688   \n",
       "site4         0.000069  0.478220  0.500292  0.527657  1.000000  0.524368   \n",
       "site5        -0.000249  0.453853  0.479208  0.498688  0.524368  1.000000   \n",
       "site6        -0.000506  0.435732  0.458275  0.473901  0.495692  0.515853   \n",
       "site7         0.001587  0.424916  0.440135  0.456356  0.474926  0.493816   \n",
       "site8        -0.001358  0.412857  0.428706  0.441512  0.456774  0.473958   \n",
       "site9        -0.001100  0.401177  0.412053  0.424647  0.435884  0.453116   \n",
       "site10       -0.000130  0.389907  0.404113  0.413347  0.426124  0.435112   \n",
       "target       -0.000825 -0.001635 -0.003593 -0.004641 -0.003328 -0.005701   \n",
       "\n",
       "               site6     site7     site8     site9    site10    target  \n",
       "session_id -0.000506  0.001587 -0.001358 -0.001100 -0.000130 -0.000825  \n",
       "site1       0.435732  0.424916  0.412857  0.401177  0.389907 -0.001635  \n",
       "site2       0.458275  0.440135  0.428706  0.412053  0.404113 -0.003593  \n",
       "site3       0.473901  0.456356  0.441512  0.424647  0.413347 -0.004641  \n",
       "site4       0.495692  0.474926  0.456774  0.435884  0.426124 -0.003328  \n",
       "site5       0.515853  0.493816  0.473958  0.453116  0.435112 -0.005701  \n",
       "site6       1.000000  0.514644  0.492870  0.462805  0.448115 -0.004205  \n",
       "site7       0.514644  1.000000  0.519706  0.493182  0.469826 -0.002898  \n",
       "site8       0.492870  0.519706  1.000000  0.513953  0.488192 -0.006590  \n",
       "site9       0.462805  0.493182  0.513953  1.000000  0.511839 -0.004619  \n",
       "site10      0.448115  0.469826  0.488192  0.511839  1.000000 -0.006350  \n",
       "target     -0.004205 -0.002898 -0.006590 -0.004619 -0.006350  1.000000  "
      ]
     },
     "execution_count": 106,
     "metadata": {},
     "output_type": "execute_result"
    }
   ],
   "source": [
    "train_df.corr()"
   ]
  },
  {
   "cell_type": "code",
   "execution_count": 107,
   "metadata": {},
   "outputs": [
    {
     "data": {
      "text/plain": [
       "0    251264\n",
       "1      2297\n",
       "Name: target, dtype: int64"
      ]
     },
     "execution_count": 107,
     "metadata": {},
     "output_type": "execute_result"
    }
   ],
   "source": [
    "train_df.target.value_counts()"
   ]
  },
  {
   "cell_type": "code",
   "execution_count": 108,
   "metadata": {},
   "outputs": [
    {
     "data": {
      "text/plain": [
       "session_id        0\n",
       "site1             0\n",
       "time1             0\n",
       "site2          3463\n",
       "time2          3463\n",
       "site3          6642\n",
       "time3          6642\n",
       "site4          9240\n",
       "time4          9240\n",
       "site5         11732\n",
       "time5         11732\n",
       "site6         14066\n",
       "time6         14066\n",
       "site7         16264\n",
       "time7         16264\n",
       "site8         18337\n",
       "time8         18337\n",
       "site9         20477\n",
       "time9         20477\n",
       "site10        22509\n",
       "time10        22509\n",
       "target            0\n",
       "dtype: int64"
      ]
     },
     "execution_count": 108,
     "metadata": {},
     "output_type": "execute_result"
    }
   ],
   "source": [
    "train_df.isnull().sum()"
   ]
  },
  {
   "cell_type": "markdown",
   "metadata": {},
   "source": [
    "В обучающей выборке сессии состоят минимум из одного посещенного сайта, максимум – десяти сайтов. Из них 2297 сессий принадлежат Элис, остальные (251264 сессии) – другим пользователям. Классы сильно несбалансированны."
   ]
  },
  {
   "cell_type": "code",
   "execution_count": 109,
   "metadata": {},
   "outputs": [],
   "source": [
    "# признаки, содежащие идентификаторы сайтов, являются типом int64, время - object\n",
    "times = [c for c in train_df.columns if train_df[c].dtype.name == 'object']\n",
    "sites = [c for c in train_df.drop('target', axis=1).columns if train_df[c].dtype.name != 'object']"
   ]
  },
  {
   "cell_type": "code",
   "execution_count": 110,
   "metadata": {},
   "outputs": [
    {
     "data": {
      "text/html": [
       "<div>\n",
       "<style scoped>\n",
       "    .dataframe tbody tr th:only-of-type {\n",
       "        vertical-align: middle;\n",
       "    }\n",
       "\n",
       "    .dataframe tbody tr th {\n",
       "        vertical-align: top;\n",
       "    }\n",
       "\n",
       "    .dataframe thead th {\n",
       "        text-align: right;\n",
       "    }\n",
       "</style>\n",
       "<table border=\"1\" class=\"dataframe\">\n",
       "  <thead>\n",
       "    <tr style=\"text-align: right;\">\n",
       "      <th></th>\n",
       "      <th>time1</th>\n",
       "      <th>time2</th>\n",
       "      <th>time3</th>\n",
       "      <th>time4</th>\n",
       "      <th>time5</th>\n",
       "      <th>time6</th>\n",
       "      <th>time7</th>\n",
       "      <th>time8</th>\n",
       "      <th>time9</th>\n",
       "      <th>time10</th>\n",
       "    </tr>\n",
       "  </thead>\n",
       "  <tbody>\n",
       "    <tr>\n",
       "      <th>count</th>\n",
       "      <td>253561</td>\n",
       "      <td>250098</td>\n",
       "      <td>246919</td>\n",
       "      <td>244321</td>\n",
       "      <td>241829</td>\n",
       "      <td>239495</td>\n",
       "      <td>237297</td>\n",
       "      <td>235224</td>\n",
       "      <td>233084</td>\n",
       "      <td>231052</td>\n",
       "    </tr>\n",
       "    <tr>\n",
       "      <th>unique</th>\n",
       "      <td>236707</td>\n",
       "      <td>233597</td>\n",
       "      <td>230761</td>\n",
       "      <td>228188</td>\n",
       "      <td>225795</td>\n",
       "      <td>223712</td>\n",
       "      <td>221851</td>\n",
       "      <td>219987</td>\n",
       "      <td>218006</td>\n",
       "      <td>216169</td>\n",
       "    </tr>\n",
       "    <tr>\n",
       "      <th>top</th>\n",
       "      <td>2014-03-27 08:11:18</td>\n",
       "      <td>2013-10-12 09:45:58</td>\n",
       "      <td>2013-10-12 09:57:42</td>\n",
       "      <td>2014-03-19 08:57:20</td>\n",
       "      <td>2014-03-26 11:23:56</td>\n",
       "      <td>2014-03-20 11:38:52</td>\n",
       "      <td>2014-03-20 11:38:52</td>\n",
       "      <td>2013-10-12 09:47:16</td>\n",
       "      <td>2014-02-19 09:28:36</td>\n",
       "      <td>2014-02-19 09:28:22</td>\n",
       "    </tr>\n",
       "    <tr>\n",
       "      <th>freq</th>\n",
       "      <td>6</td>\n",
       "      <td>5</td>\n",
       "      <td>6</td>\n",
       "      <td>6</td>\n",
       "      <td>6</td>\n",
       "      <td>6</td>\n",
       "      <td>6</td>\n",
       "      <td>6</td>\n",
       "      <td>6</td>\n",
       "      <td>6</td>\n",
       "    </tr>\n",
       "  </tbody>\n",
       "</table>\n",
       "</div>"
      ],
      "text/plain": [
       "                      time1                time2                time3  \\\n",
       "count                253561               250098               246919   \n",
       "unique               236707               233597               230761   \n",
       "top     2014-03-27 08:11:18  2013-10-12 09:45:58  2013-10-12 09:57:42   \n",
       "freq                      6                    5                    6   \n",
       "\n",
       "                      time4                time5                time6  \\\n",
       "count                244321               241829               239495   \n",
       "unique               228188               225795               223712   \n",
       "top     2014-03-19 08:57:20  2014-03-26 11:23:56  2014-03-20 11:38:52   \n",
       "freq                      6                    6                    6   \n",
       "\n",
       "                      time7                time8                time9  \\\n",
       "count                237297               235224               233084   \n",
       "unique               221851               219987               218006   \n",
       "top     2014-03-20 11:38:52  2013-10-12 09:47:16  2014-02-19 09:28:36   \n",
       "freq                      6                    6                    6   \n",
       "\n",
       "                     time10  \n",
       "count                231052  \n",
       "unique               216169  \n",
       "top     2014-02-19 09:28:22  \n",
       "freq                      6  "
      ]
     },
     "execution_count": 110,
     "metadata": {},
     "output_type": "execute_result"
    }
   ],
   "source": [
    "train_df[times].describe()"
   ]
  },
  {
   "cell_type": "markdown",
   "metadata": {},
   "source": [
    "Создадим новые признаки функцией new_feature:"
   ]
  },
  {
   "cell_type": "code",
   "execution_count": 165,
   "metadata": {},
   "outputs": [],
   "source": [
    "def new_feature(dataframe, features):\n",
    "    # Создадим частотный словарь сайтов site_dict вида {site_id: site_freq}              \n",
    "    site_dict = dict(pd.Series(dataframe[sites].values.ravel('F')).value_counts())\n",
    "    # \"таблица\" с новыми признакми для всех сессий     \n",
    "    new_feture_list = []\n",
    "    \n",
    "    # Определяем топ 50 сайтов по посещаемости\n",
    "    top50_id = {site_id for site_id in list(site_dict.keys())[:50]}\n",
    "    \n",
    "    # Проходим по каждой сессии (строке из dataframe) и определяем новые призанки, делаем из них таблицу\n",
    "    for session in range(dataframe.shape[0]):\n",
    "        \n",
    "        # строка датафрейма с текущей сессией\n",
    "        session_current = dataframe.iloc[session]\n",
    "        # сайты из текущей сессии\n",
    "        session_sites = session_current[sites]\n",
    "        # время посещания сайтов из текущей сессии\n",
    "        session_times = session_current[times]\n",
    "        \n",
    "        # количество сайтов, входящих в топ 50, которые посетил пользователь\n",
    "        top50_num = len(set(session_sites) & top50_id)\n",
    "        \n",
    "        # самый часто встречающийся сайт в сессии\n",
    "        # если таких сайтов несколько, то берем тот, который пользователь посетил раньше (по времени в сессии)\n",
    "        try:\n",
    "            mode_site = st.mode(session_sites)\n",
    "        except:\n",
    "            mode_site = None\n",
    "            \n",
    "        unique_sites = np.unique(list(filter(lambda num: num != 0, session_sites))).shape[0]\n",
    "            \n",
    "        # разница во времени между посещениями сайтов\n",
    "        time_diff = []        \n",
    "        for num in range(len(session_times)-1):\n",
    "            try:\n",
    "                time_diff += [int((datetime.strptime(session_times[num + 1], \"%Y-%m-%d %H:%M:%S\") - \\\n",
    "                                   datetime.strptime(session_times[num], \"%Y-%m-%d %H:%M:%S\")).total_seconds())]\n",
    "            except:\n",
    "                time_diff += [0]\n",
    "                \n",
    "        # среднее время пребывания пользователя на сайте\n",
    "        mean_site_time = np.mean(time_diff)\n",
    "        \n",
    "        # длина сессии\n",
    "        length_session = sum(time_diff)\n",
    "        \n",
    "        # день недели начала сессии\n",
    "        time_1 = datetime.strptime(session_times[0], \"%Y-%m-%d %H:%M:%S\")\n",
    "        day_of_week = time_1.weekday()\n",
    "        \n",
    "        # час начала сессии\n",
    "        start_session =  time_1.hour\n",
    "            \n",
    "        # время суток начала сессии\n",
    "        if start_session >= 6 and start_session <= 11:\n",
    "            time_of_day = 'morning'\n",
    "        elif start_session > 11 and start_session <= 17:\n",
    "            time_of_day = 'day'\n",
    "        elif start_session > 17 and start_session <= 21:\n",
    "            time_of_day = 'evening'\n",
    "        else:\n",
    "            time_of_day = 'night'\n",
    "        \n",
    "        new_feture_list += [[top50_num] + [mode_site] + [unique_sites] + [mean_site_time] + [length_session] +\\\n",
    "                            [start_session] + [day_of_week] + [time_of_day] + time_diff]\n",
    "        \n",
    "    # преобразование в DataFrame\n",
    "    new_feture_df = pd.DataFrame(new_feture_list, columns=features)\n",
    "            \n",
    "    return new_feture_df"
   ]
  },
  {
   "cell_type": "code",
   "execution_count": 166,
   "metadata": {},
   "outputs": [
    {
     "name": "stdout",
     "output_type": "stream",
     "text": [
      "Wall time: 6min 53s\n"
     ]
    }
   ],
   "source": [
    "%%time\n",
    "features = ['top50 num', 'mode site', 'unique sites', 'mean site time',\n",
    "            'session lenght', 'session start', 'week day', 'time of day'] + ['time_diff' + str(j) for j in range(1,10)]\n",
    "new_feature_train_df = new_feature(train_df, features)\n",
    "new_feature_test_df = new_feature(test_df, features)"
   ]
  },
  {
   "cell_type": "markdown",
   "metadata": {},
   "source": [
    "Заменим пропущенные значения в сессиях (в которых меньше 10 посещенных сайтов) на 0."
   ]
  },
  {
   "cell_type": "code",
   "execution_count": 167,
   "metadata": {},
   "outputs": [],
   "source": [
    "train_df.fillna(0, inplace=True)\n",
    "test_df.fillna(0, inplace=True)"
   ]
  },
  {
   "cell_type": "markdown",
   "metadata": {},
   "source": [
    "**Соединим новые вризнаки с исходными данными**"
   ]
  },
  {
   "cell_type": "code",
   "execution_count": 168,
   "metadata": {},
   "outputs": [],
   "source": [
    "train_and_new_feature_df = pd.concat([train_df, new_feature_train_df], axis=1)\n",
    "test_and_new_feature_df = pd.concat([test_df, new_feature_test_df], axis=1)"
   ]
  },
  {
   "cell_type": "code",
   "execution_count": 169,
   "metadata": {},
   "outputs": [
    {
     "data": {
      "text/html": [
       "<div>\n",
       "<style scoped>\n",
       "    .dataframe tbody tr th:only-of-type {\n",
       "        vertical-align: middle;\n",
       "    }\n",
       "\n",
       "    .dataframe tbody tr th {\n",
       "        vertical-align: top;\n",
       "    }\n",
       "\n",
       "    .dataframe thead th {\n",
       "        text-align: right;\n",
       "    }\n",
       "</style>\n",
       "<table border=\"1\" class=\"dataframe\">\n",
       "  <thead>\n",
       "    <tr style=\"text-align: right;\">\n",
       "      <th></th>\n",
       "      <th>top50 num</th>\n",
       "      <th>mode site</th>\n",
       "      <th>unique sites</th>\n",
       "      <th>mean site time</th>\n",
       "      <th>session lenght</th>\n",
       "      <th>session start</th>\n",
       "      <th>week day</th>\n",
       "      <th>time of day</th>\n",
       "      <th>time_diff1</th>\n",
       "      <th>time_diff2</th>\n",
       "      <th>time_diff3</th>\n",
       "      <th>time_diff4</th>\n",
       "      <th>time_diff5</th>\n",
       "      <th>time_diff6</th>\n",
       "      <th>time_diff7</th>\n",
       "      <th>time_diff8</th>\n",
       "      <th>time_diff9</th>\n",
       "      <th>target</th>\n",
       "    </tr>\n",
       "  </thead>\n",
       "  <tbody>\n",
       "    <tr>\n",
       "      <th>0</th>\n",
       "      <td>0</td>\n",
       "      <td>1.0</td>\n",
       "      <td>11</td>\n",
       "      <td>0.000000</td>\n",
       "      <td>0</td>\n",
       "      <td>10</td>\n",
       "      <td>3</td>\n",
       "      <td>morning</td>\n",
       "      <td>0</td>\n",
       "      <td>0</td>\n",
       "      <td>0</td>\n",
       "      <td>0</td>\n",
       "      <td>0</td>\n",
       "      <td>0</td>\n",
       "      <td>0</td>\n",
       "      <td>0</td>\n",
       "      <td>0</td>\n",
       "      <td>0</td>\n",
       "    </tr>\n",
       "    <tr>\n",
       "      <th>1</th>\n",
       "      <td>2</td>\n",
       "      <td>941.0</td>\n",
       "      <td>8</td>\n",
       "      <td>2.888889</td>\n",
       "      <td>26</td>\n",
       "      <td>11</td>\n",
       "      <td>5</td>\n",
       "      <td>morning</td>\n",
       "      <td>0</td>\n",
       "      <td>1</td>\n",
       "      <td>0</td>\n",
       "      <td>0</td>\n",
       "      <td>0</td>\n",
       "      <td>1</td>\n",
       "      <td>0</td>\n",
       "      <td>23</td>\n",
       "      <td>1</td>\n",
       "      <td>0</td>\n",
       "    </tr>\n",
       "    <tr>\n",
       "      <th>2</th>\n",
       "      <td>3</td>\n",
       "      <td>14768.0</td>\n",
       "      <td>5</td>\n",
       "      <td>0.777778</td>\n",
       "      <td>7</td>\n",
       "      <td>16</td>\n",
       "      <td>0</td>\n",
       "      <td>day</td>\n",
       "      <td>1</td>\n",
       "      <td>1</td>\n",
       "      <td>0</td>\n",
       "      <td>0</td>\n",
       "      <td>0</td>\n",
       "      <td>1</td>\n",
       "      <td>1</td>\n",
       "      <td>1</td>\n",
       "      <td>2</td>\n",
       "      <td>0</td>\n",
       "    </tr>\n",
       "    <tr>\n",
       "      <th>3</th>\n",
       "      <td>1</td>\n",
       "      <td>782.0</td>\n",
       "      <td>2</td>\n",
       "      <td>30.000000</td>\n",
       "      <td>270</td>\n",
       "      <td>10</td>\n",
       "      <td>4</td>\n",
       "      <td>morning</td>\n",
       "      <td>30</td>\n",
       "      <td>30</td>\n",
       "      <td>30</td>\n",
       "      <td>30</td>\n",
       "      <td>30</td>\n",
       "      <td>30</td>\n",
       "      <td>30</td>\n",
       "      <td>30</td>\n",
       "      <td>30</td>\n",
       "      <td>0</td>\n",
       "    </tr>\n",
       "    <tr>\n",
       "      <th>4</th>\n",
       "      <td>4</td>\n",
       "      <td>177.0</td>\n",
       "      <td>5</td>\n",
       "      <td>27.333333</td>\n",
       "      <td>246</td>\n",
       "      <td>10</td>\n",
       "      <td>4</td>\n",
       "      <td>morning</td>\n",
       "      <td>137</td>\n",
       "      <td>0</td>\n",
       "      <td>1</td>\n",
       "      <td>0</td>\n",
       "      <td>36</td>\n",
       "      <td>0</td>\n",
       "      <td>0</td>\n",
       "      <td>67</td>\n",
       "      <td>5</td>\n",
       "      <td>0</td>\n",
       "    </tr>\n",
       "  </tbody>\n",
       "</table>\n",
       "</div>"
      ],
      "text/plain": [
       "   top50 num  mode site  unique sites  mean site time  session lenght  \\\n",
       "0          0        1.0            11        0.000000               0   \n",
       "1          2      941.0             8        2.888889              26   \n",
       "2          3    14768.0             5        0.777778               7   \n",
       "3          1      782.0             2       30.000000             270   \n",
       "4          4      177.0             5       27.333333             246   \n",
       "\n",
       "   session start  week day time of day  time_diff1  time_diff2  time_diff3  \\\n",
       "0             10         3     morning           0           0           0   \n",
       "1             11         5     morning           0           1           0   \n",
       "2             16         0         day           1           1           0   \n",
       "3             10         4     morning          30          30          30   \n",
       "4             10         4     morning         137           0           1   \n",
       "\n",
       "   time_diff4  time_diff5  time_diff6  time_diff7  time_diff8  time_diff9  \\\n",
       "0           0           0           0           0           0           0   \n",
       "1           0           0           1           0          23           1   \n",
       "2           0           0           1           1           1           2   \n",
       "3          30          30          30          30          30          30   \n",
       "4           0          36           0           0          67           5   \n",
       "\n",
       "   target  \n",
       "0       0  \n",
       "1       0  \n",
       "2       0  \n",
       "3       0  \n",
       "4       0  "
      ]
     },
     "execution_count": 169,
     "metadata": {},
     "output_type": "execute_result"
    }
   ],
   "source": [
    "new_feature_train_df['target'] = train_df['target']\n",
    "new_feature_train_df.head()"
   ]
  },
  {
   "cell_type": "markdown",
   "metadata": {},
   "source": [
    "### Первичный визуальный анализ признаков"
   ]
  },
  {
   "cell_type": "markdown",
   "metadata": {},
   "source": [
    "**Распределения количества сайтов в сессии, которые входят в топ 50 самых посещаемых сайтов (top50 num)**"
   ]
  },
  {
   "cell_type": "code",
   "execution_count": 49,
   "metadata": {},
   "outputs": [
    {
     "data": {
      "image/png": "[encoded data removed]",
      "text/plain": [
       "<Figure size 432x288 with 1 Axes>"
      ]
     },
     "metadata": {
      "needs_background": "light"
     },
     "output_type": "display_data"
    }
   ],
   "source": [
    "top50_num = dict(OrderedDict(sorted(new_feature_train_df['top50 num'].value_counts().items(), key=lambda t: t[0])))\n",
    "\n",
    "plt.vlines(x=list(top50_num.keys()), ymin=0, \\\n",
    "           ymax=list(top50_num.values()), color='rosybrown', alpha=0.75, linewidth=15)\n",
    "\n",
    "plt.xlabel('Количество сайтов в сессии, которые входят в топ 50')\n",
    "plt.ylabel('Количество сессий')\n",
    "plt.grid()\n",
    "\n",
    "for i, num in enumerate(list(top50_num.values())):\n",
    "    plt.text(i, num, num, horizontalalignment='center')"
   ]
  },
  {
   "cell_type": "markdown",
   "metadata": {},
   "source": [
    "Чаще всего встречаются сессии, где есть два уникальных сайта (56259 сессий). Также есть не мало сессий, в которых сайты не которые входят в топ 50 (38686 сессий). Есть сессии, в которых все сайты входят в топ 50 (16 сессий)."
   ]
  },
  {
   "cell_type": "code",
   "execution_count": 113,
   "metadata": {},
   "outputs": [
    {
     "data": {
      "image/png": "[encoded data removed]",
      "text/plain": [
       "<Figure size 432x288 with 1 Axes>"
      ]
     },
     "metadata": {
      "needs_background": "light"
     },
     "output_type": "display_data"
    }
   ],
   "source": [
    "top50_num_Alice = dict(OrderedDict(sorted(new_feature_train_df[new_feature_train_df['target']==1]['top50 num'].value_counts().items(), key=lambda t: t[0])))\n",
    "\n",
    "plt.vlines(x=list(top50_num_Alice.keys()), ymin=0, \\\n",
    "           ymax=list(top50_num_Alice.values()), color='pink', alpha=0.75, linewidth=15)\n",
    "\n",
    "plt.xlabel('Количество сайтов в сессии, которые входят в топ 50')\n",
    "plt.ylabel('Количество сессий')\n",
    "plt.grid()\n",
    "    \n",
    "for i, num in enumerate(list(top50_num_Alice.values())):\n",
    "    plt.text(i, num, num, horizontalalignment='center')"
   ]
  },
  {
   "cell_type": "markdown",
   "metadata": {},
   "source": [
    "В случае Алисы распределение похоже на распределение со всеми пользователями: так же чаще всего встречаются сессии, где есть два уникальных сайта (512 сессий), и есть не мало сессий, в которых сайты не которые входят в топ 50 (350 сессий). Всего одна сессия, в которой все сайты входят в топ 50."
   ]
  },
  {
   "cell_type": "markdown",
   "metadata": {},
   "source": [
    "**Распределение сайтов, котрые были самыми посещаемыми сайтами в сессии (mode site)**"
   ]
  },
  {
   "cell_type": "markdown",
   "metadata": {},
   "source": [
    "Для всех пользователей"
   ]
  },
  {
   "cell_type": "code",
   "execution_count": 115,
   "metadata": {},
   "outputs": [
    {
     "data": {
      "image/png": "[encoded data removed]",
      "text/plain": [
       "<Figure size 432x288 with 1 Axes>"
      ]
     },
     "metadata": {
      "needs_background": "light"
     },
     "output_type": "display_data"
    }
   ],
   "source": [
    "plt.vlines(x=new_feature_train_df['mode site'].value_counts().index, ymin=0, \\\n",
    "           ymax=new_feature_train_df['mode site'].value_counts().values, color='rosybrown', alpha=0.5, linewidth=15)\n",
    "\n",
    "plt.xlabel('id сайта')\n",
    "plt.ylabel('Количество сессий')\n",
    "plt.grid()"
   ]
  },
  {
   "cell_type": "markdown",
   "metadata": {},
   "source": [
    "Для Алисы"
   ]
  },
  {
   "cell_type": "code",
   "execution_count": 122,
   "metadata": {},
   "outputs": [
    {
     "data": {
      "image/png": "[encoded data removed]",
      "text/plain": [
       "<Figure size 432x288 with 1 Axes>"
      ]
     },
     "metadata": {
      "needs_background": "light"
     },
     "output_type": "display_data"
    }
   ],
   "source": [
    "plt.vlines(x=new_feature_train_df[new_feature_train_df['target']==1]['mode site'].value_counts().index, ymin=0, \\\n",
    "           ymax=new_feature_train_df[new_feature_train_df['target']==1]['mode site'].value_counts().values, color='pink', alpha=1, linewidth=15)\n",
    "\n",
    "plt.xlabel('id сайта')\n",
    "plt.ylabel('Количество сессий')\n",
    "plt.grid()"
   ]
  },
  {
   "cell_type": "markdown",
   "metadata": {},
   "source": [
    "Большинство сайтов расположено в левой части диаграммы (id примерно с 1 до 200), посмотрим на эту часть поближе"
   ]
  },
  {
   "cell_type": "markdown",
   "metadata": {},
   "source": [
    "Все пользователи"
   ]
  },
  {
   "cell_type": "code",
   "execution_count": 59,
   "metadata": {
    "scrolled": true
   },
   "outputs": [
    {
     "data": {
      "image/png": "[encoded data removed]",
      "text/plain": [
       "<Figure size 432x288 with 1 Axes>"
      ]
     },
     "metadata": {
      "needs_background": "light"
     },
     "output_type": "display_data"
    }
   ],
   "source": [
    "mode_site = dict(new_feature_train_df[new_feature_train_df['mode site']<200]['mode site'].value_counts())\n",
    "\n",
    "plt.vlines(x=list(mode_site.keys()), ymin=0, \\\n",
    "           ymax=list(mode_site.values()), color='rosybrown', alpha=0.5, linewidth=15)\n",
    "\n",
    "plt.xlabel('id сайта (<200)')\n",
    "plt.ylabel('Количество сессий')\n",
    "plt.grid()"
   ]
  },
  {
   "cell_type": "code",
   "execution_count": 43,
   "metadata": {},
   "outputs": [
    {
     "data": {
      "text/plain": [
       "21.0     18439\n",
       "782.0     8266\n",
       "23.0      7854\n",
       "167.0     7807\n",
       "52.0      5562\n",
       "29.0      5509\n",
       "780.0     5378\n",
       "812.0     5171\n",
       "55.0      4615\n",
       "22.0      3870\n",
       "Name: mode site, dtype: int64"
      ]
     },
     "execution_count": 43,
     "metadata": {},
     "output_type": "execute_result"
    }
   ],
   "source": [
    "new_feature_train_df['mode site'].value_counts().head(10)"
   ]
  },
  {
   "cell_type": "code",
   "execution_count": 47,
   "metadata": {},
   "outputs": [
    {
     "data": {
      "text/plain": [
       "6651"
      ]
     },
     "execution_count": 47,
     "metadata": {},
     "output_type": "execute_result"
    }
   ],
   "source": [
    "sum(new_feature_train_df['mode site'].value_counts()==1)"
   ]
  },
  {
   "cell_type": "code",
   "execution_count": 134,
   "metadata": {
    "scrolled": true
   },
   "outputs": [
    {
     "data": {
      "image/png": "[encoded data removed]",
      "text/plain": [
       "<Figure size 432x288 with 1 Axes>"
      ]
     },
     "metadata": {
      "needs_background": "light"
     },
     "output_type": "display_data"
    }
   ],
   "source": [
    "Alice_target = new_feature_train_df[new_feature_train_df['target']==1]\n",
    "mode_site = dict(Alice_target[Alice_target['mode site']<200]['mode site'].value_counts())\n",
    "\n",
    "plt.vlines(x=list(mode_site.keys()), ymin=0, \\\n",
    "           ymax=list(mode_site.values()), color='pink', alpha=0.5, linewidth=15)\n",
    "\n",
    "plt.xlabel('id сайта (<200)')\n",
    "plt.ylabel('Количество сессий')\n",
    "plt.grid()"
   ]
  },
  {
   "cell_type": "code",
   "execution_count": 135,
   "metadata": {},
   "outputs": [
    {
     "data": {
      "text/plain": [
       "21.0     186\n",
       "167.0     70\n",
       "23.0      70\n",
       "782.0     70\n",
       "29.0      55\n",
       "780.0     52\n",
       "812.0     48\n",
       "52.0      44\n",
       "22.0      39\n",
       "55.0      37\n",
       "Name: mode site, dtype: int64"
      ]
     },
     "execution_count": 135,
     "metadata": {},
     "output_type": "execute_result"
    }
   ],
   "source": [
    "new_feature_train_df[new_feature_train_df['target']==1]['mode site'].value_counts().head(10)"
   ]
  },
  {
   "cell_type": "code",
   "execution_count": 136,
   "metadata": {},
   "outputs": [
    {
     "data": {
      "text/plain": [
       "520"
      ]
     },
     "execution_count": 136,
     "metadata": {},
     "output_type": "execute_result"
    }
   ],
   "source": [
    "sum(new_feature_train_df[new_feature_train_df['target']==1]['mode site'].value_counts()==1)"
   ]
  },
  {
   "cell_type": "markdown",
   "metadata": {},
   "source": [
    "Самым посещаемым среди наиболее встречающихся сайтов сессии является сайт с id 21 (18439 сессий), на втором месте - id 782 (8266 сессий). 6651 (кол-во) сайт был самым часто встречающимся сайтом в одной сессиях один раз.\n",
    "\n",
    "У Алисы самым посещаемым среди наиболее встречающихся сайтов сессии является сайт с id 21 (186 сессий), на втором месте - id 167 (70 сессий). 520 сайтов были самыми часто встречающимся сайтами в сессиях один раз."
   ]
  },
  {
   "cell_type": "markdown",
   "metadata": {},
   "source": [
    "**Распределение количества уникальных сайтов в сессии (unique sites)**"
   ]
  },
  {
   "cell_type": "markdown",
   "metadata": {},
   "source": [
    "Для всех пользователей"
   ]
  },
  {
   "cell_type": "code",
   "execution_count": 57,
   "metadata": {},
   "outputs": [
    {
     "data": {
      "image/png": "[encoded data removed]",
      "text/plain": [
       "<Figure size 432x288 with 1 Axes>"
      ]
     },
     "metadata": {
      "needs_background": "light"
     },
     "output_type": "display_data"
    }
   ],
   "source": [
    "unique_sites = dict(OrderedDict(sorted(new_feature_train_df['unique sites'].value_counts().items(), key=lambda t: t[0])))\n",
    "\n",
    "plt.vlines(x=list(unique_sites.keys()), ymin=0, \\\n",
    "           ymax=list(unique_sites.values()), color='rosybrown', alpha=0.75, linewidth=15)\n",
    "\n",
    "plt.xlabel('Количество уникальных сайтов в сессии')\n",
    "plt.ylabel('Количество сессий')\n",
    "plt.grid()\n",
    "\n",
    "for i, num in enumerate(list(unique_sites.values())):\n",
    "    plt.text(i+1, num, num, horizontalalignment='center')"
   ]
  },
  {
   "cell_type": "markdown",
   "metadata": {},
   "source": [
    "В большинстве сессий (39012) количество уникальных сайтов 7. Реже всего в сессиях (1181) встречалось по 1 уникальному сайту. Все 10 уникальных сайтов было в 19841 сессии."
   ]
  },
  {
   "cell_type": "markdown",
   "metadata": {},
   "source": [
    "Для Алисы"
   ]
  },
  {
   "cell_type": "code",
   "execution_count": 146,
   "metadata": {},
   "outputs": [
    {
     "data": {
      "image/png": "[encoded data removed]",
      "text/plain": [
       "<Figure size 432x288 with 1 Axes>"
      ]
     },
     "metadata": {
      "needs_background": "light"
     },
     "output_type": "display_data"
    }
   ],
   "source": [
    "unique_sites_alice = dict(OrderedDict(sorted(Alice_target['unique sites'].value_counts().items(), key=lambda t: t[0])))\n",
    "\n",
    "plt.vlines(x=list(unique_sites_alice.keys()), ymin=0, \\\n",
    "           ymax=list(unique_sites_alice.values()), color='pink', alpha=0.75, linewidth=15)\n",
    "\n",
    "plt.xlabel('Количество уникальных сайтов в сессии')\n",
    "plt.ylabel('Количество сессий')\n",
    "plt.grid()\n",
    "\n",
    "for i, num in enumerate(list(unique_sites_alice.values())):\n",
    "    plt.text(i+1, num, num, horizontalalignment='center')"
   ]
  },
  {
   "cell_type": "markdown",
   "metadata": {},
   "source": [
    "Распределение количества уникальных сайтов в сессии такое же, как и у всех пользователей. В большинстве сессий (360) количество уникальных сайтов 7. Реже всего в сессиях (95) встречалось по 1 уникальному сайту. Все 10 уникальных сайтов было в 175 сессии."
   ]
  },
  {
   "cell_type": "markdown",
   "metadata": {},
   "source": [
    "**Распределение среднего времени пребывания пользователя на сайтеmean (mean site time)**"
   ]
  },
  {
   "cell_type": "markdown",
   "metadata": {},
   "source": [
    "Для всех пользователей"
   ]
  },
  {
   "cell_type": "code",
   "execution_count": 74,
   "metadata": {},
   "outputs": [
    {
     "data": {
      "image/png": "[encoded data removed]",
      "text/plain": [
       "<Figure size 432x288 with 1 Axes>"
      ]
     },
     "metadata": {
      "needs_background": "light"
     },
     "output_type": "display_data"
    }
   ],
   "source": [
    "mean_site_time = dict(new_feature_train_df[new_feature_train_df['mean site time']!=0]['mean site time'].value_counts())\n",
    "\n",
    "plt.vlines(x=list(mean_site_time.keys()), ymin=0, \\\n",
    "           ymax=list(mean_site_time.values()), color='rosybrown', alpha=0.5, linewidth=15)\n",
    "\n",
    "plt.xlabel('Среднее время посещения сайта, секунды')\n",
    "plt.ylabel('Количество сессий')\n",
    "plt.grid()"
   ]
  },
  {
   "cell_type": "code",
   "execution_count": 79,
   "metadata": {},
   "outputs": [
    {
     "data": {
      "image/png": "[encoded data removed]",
      "text/plain": [
       "<Figure size 432x288 with 1 Axes>"
      ]
     },
     "metadata": {
      "needs_background": "light"
     },
     "output_type": "display_data"
    }
   ],
   "source": [
    "mean_site_time = dict(new_feature_train_df[new_feature_train_df['mean site time']<=5]['mean site time'].value_counts())\n",
    "\n",
    "plt.vlines(x=list(mean_site_time.keys()), ymin=0, \\\n",
    "           ymax=list(mean_site_time.values()), color='rosybrown', alpha=0.5, linewidth=15)\n",
    "\n",
    "plt.xlabel('Среднее время посещения сайта, секунды')\n",
    "plt.ylabel('Количество сессий')\n",
    "plt.grid()"
   ]
  },
  {
   "cell_type": "code",
   "execution_count": 80,
   "metadata": {},
   "outputs": [
    {
     "data": {
      "text/plain": [
       "0.222222    14524\n",
       "0.111111    10826\n",
       "0.333333    10459\n",
       "0.444444     8126\n",
       "0.555556     6645\n",
       "Name: mean site time, dtype: int64"
      ]
     },
     "execution_count": 80,
     "metadata": {},
     "output_type": "execute_result"
    }
   ],
   "source": [
    "new_feature_train_df[new_feature_train_df['mean site time']!=0]['mean site time'].value_counts().head()"
   ]
  },
  {
   "cell_type": "code",
   "execution_count": 81,
   "metadata": {},
   "outputs": [
    {
     "data": {
      "text/plain": [
       "141.888889    2\n",
       "154.222222    2\n",
       "160.888889    2\n",
       "150.111111    2\n",
       "128.666667    2\n",
       "Name: mean site time, dtype: int64"
      ]
     },
     "execution_count": 81,
     "metadata": {},
     "output_type": "execute_result"
    }
   ],
   "source": [
    "new_feature_train_df[new_feature_train_df['mean site time']!=0]['mean site time'].value_counts().tail()"
   ]
  },
  {
   "cell_type": "code",
   "execution_count": 87,
   "metadata": {},
   "outputs": [
    {
     "data": {
      "text/plain": [
       "0.1111111111111111"
      ]
     },
     "execution_count": 87,
     "metadata": {},
     "output_type": "execute_result"
    }
   ],
   "source": [
    "new_feature_train_df[new_feature_train_df['mean site time']!=0]['mean site time'].min()"
   ]
  },
  {
   "cell_type": "code",
   "execution_count": 92,
   "metadata": {},
   "outputs": [
    {
     "data": {
      "text/plain": [
       "200.0"
      ]
     },
     "execution_count": 92,
     "metadata": {},
     "output_type": "execute_result"
    }
   ],
   "source": [
    "new_feature_train_df[new_feature_train_df['mean site time']!=0]['mean site time'].max()"
   ]
  },
  {
   "cell_type": "markdown",
   "metadata": {},
   "source": [
    "Для Алисы"
   ]
  },
  {
   "cell_type": "code",
   "execution_count": 147,
   "metadata": {},
   "outputs": [
    {
     "data": {
      "image/png": "[encoded data removed]",
      "text/plain": [
       "<Figure size 432x288 with 1 Axes>"
      ]
     },
     "metadata": {
      "needs_background": "light"
     },
     "output_type": "display_data"
    }
   ],
   "source": [
    "mean_site_time = dict(Alice_target['mean site time'].value_counts())\n",
    "\n",
    "plt.vlines(x=list(mean_site_time.keys()), ymin=0, \\\n",
    "           ymax=list(mean_site_time.values()), color='pink', alpha=0.5, linewidth=15)\n",
    "\n",
    "plt.xlabel('Среднее время посещения сайта, секунды')\n",
    "plt.ylabel('Количество сессий')\n",
    "plt.grid()"
   ]
  },
  {
   "cell_type": "code",
   "execution_count": 153,
   "metadata": {},
   "outputs": [
    {
     "data": {
      "image/png": "[encoded data removed]",
      "text/plain": [
       "<Figure size 432x288 with 1 Axes>"
      ]
     },
     "metadata": {
      "needs_background": "light"
     },
     "output_type": "display_data"
    }
   ],
   "source": [
    "mean_site_time = dict(Alice_target[Alice_target['mean site time']<=5]['mean site time'].value_counts())\n",
    "\n",
    "plt.vlines(x=list(mean_site_time.keys()), ymin=0, \\\n",
    "           ymax=list(mean_site_time.values()), color='pink', alpha=0.5, linewidth=15)\n",
    "\n",
    "plt.xlabel('Среднее время посещения сайта, секунды')\n",
    "plt.ylabel('Количество сессий')\n",
    "plt.grid()"
   ]
  },
  {
   "cell_type": "code",
   "execution_count": 158,
   "metadata": {},
   "outputs": [
    {
     "data": {
      "text/plain": [
       "0.1111111111111111"
      ]
     },
     "execution_count": 158,
     "metadata": {},
     "output_type": "execute_result"
    }
   ],
   "source": [
    "Alice_target[Alice_target['mean site time']!=0]['mean site time'].min()"
   ]
  },
  {
   "cell_type": "code",
   "execution_count": 159,
   "metadata": {},
   "outputs": [
    {
     "data": {
      "text/plain": [
       "200.0"
      ]
     },
     "execution_count": 159,
     "metadata": {},
     "output_type": "execute_result"
    }
   ],
   "source": [
    "Alice_target[Alice_target['mean site time']!=0]['mean site time'].max()"
   ]
  },
  {
   "cell_type": "markdown",
   "metadata": {},
   "source": [
    "В большинстве сессий посещение одного сайта в среднем длилось меньше минуты, самое минимальное - 0.11 секунды, максимальное - 200 секунд (3.33 минуты)."
   ]
  },
  {
   "cell_type": "markdown",
   "metadata": {},
   "source": [
    "**Распределение длины сессии (session lenght)**"
   ]
  },
  {
   "cell_type": "code",
   "execution_count": 93,
   "metadata": {},
   "outputs": [
    {
     "data": {
      "image/png": "[encoded data removed]",
      "text/plain": [
       "<Figure size 432x288 with 1 Axes>"
      ]
     },
     "metadata": {
      "needs_background": "light"
     },
     "output_type": "display_data"
    }
   ],
   "source": [
    "# исключим время равное 0, т.к. это сессии из одного сайта, по которым нельзя определить продолжительность посещения\n",
    "session_lenght = dict(new_feature_train_df[new_feature_train_df['session lenght']!=0]['session lenght'].value_counts())\n",
    "\n",
    "plt.vlines(x=list(session_lenght.keys()), ymin=0, \\\n",
    "           ymax=list(session_lenght.values()), color='rosybrown', alpha=0.5, linewidth=15)\n",
    "\n",
    "plt.xlabel('Время сессии, секунды')\n",
    "plt.ylabel('Количество сессий')\n",
    "plt.grid()"
   ]
  },
  {
   "cell_type": "code",
   "execution_count": 100,
   "metadata": {},
   "outputs": [
    {
     "data": {
      "image/png": "[encoded data removed]",
      "text/plain": [
       "<Figure size 432x288 with 1 Axes>"
      ]
     },
     "metadata": {
      "needs_background": "light"
     },
     "output_type": "display_data"
    }
   ],
   "source": [
    "session_lenght = dict(new_feature_train_df[new_feature_train_df['session lenght']<40]['session lenght'].value_counts())\n",
    "\n",
    "plt.vlines(x=list(session_lenght.keys()), ymin=0, \\\n",
    "           ymax=list(session_lenght.values()), color='rosybrown', alpha=0.5, linewidth=15)\n",
    "\n",
    "plt.xlabel('Время сессии, секунды')\n",
    "plt.ylabel('Количество сессий')\n",
    "plt.grid()"
   ]
  },
  {
   "cell_type": "code",
   "execution_count": 161,
   "metadata": {},
   "outputs": [
    {
     "data": {
      "image/png": "[encoded data removed]",
      "text/plain": [
       "<Figure size 432x288 with 1 Axes>"
      ]
     },
     "metadata": {
      "needs_background": "light"
     },
     "output_type": "display_data"
    }
   ],
   "source": [
    "session_lenght = dict(Alice_target[Alice_target['session lenght']<40]['session lenght'].value_counts())\n",
    "\n",
    "plt.vlines(x=list(session_lenght.keys()), ymin=0, \\\n",
    "           ymax=list(session_lenght.values()), color='pink', alpha=0.5, linewidth=15)\n",
    "\n",
    "plt.xlabel('Время сессии, секунды')\n",
    "plt.ylabel('Количество сессий')\n",
    "plt.grid()"
   ]
  },
  {
   "cell_type": "code",
   "execution_count": 101,
   "metadata": {},
   "outputs": [
    {
     "data": {
      "text/plain": [
       "2    14524\n",
       "1    10826\n",
       "3    10459\n",
       "4     8126\n",
       "5     6645\n",
       "Name: session lenght, dtype: int64"
      ]
     },
     "execution_count": 101,
     "metadata": {},
     "output_type": "execute_result"
    }
   ],
   "source": [
    "new_feature_train_df[new_feature_train_df['session lenght']!=0]['session lenght'].value_counts().head()"
   ]
  },
  {
   "cell_type": "code",
   "execution_count": 102,
   "metadata": {},
   "outputs": [
    {
     "data": {
      "text/plain": [
       "1277    2\n",
       "1388    2\n",
       "1351    2\n",
       "1158    2\n",
       "1448    2\n",
       "Name: session lenght, dtype: int64"
      ]
     },
     "execution_count": 102,
     "metadata": {},
     "output_type": "execute_result"
    }
   ],
   "source": [
    "new_feature_train_df[new_feature_train_df['session lenght']!=0]['session lenght'].value_counts().tail()"
   ]
  },
  {
   "cell_type": "code",
   "execution_count": 103,
   "metadata": {},
   "outputs": [
    {
     "data": {
      "text/plain": [
       "1"
      ]
     },
     "execution_count": 103,
     "metadata": {},
     "output_type": "execute_result"
    }
   ],
   "source": [
    "new_feature_train_df[new_feature_train_df['session lenght']!=0]['session lenght'].min()"
   ]
  },
  {
   "cell_type": "code",
   "execution_count": 105,
   "metadata": {},
   "outputs": [
    {
     "data": {
      "text/plain": [
       "1800"
      ]
     },
     "execution_count": 105,
     "metadata": {},
     "output_type": "execute_result"
    }
   ],
   "source": [
    "new_feature_train_df[new_feature_train_df['session lenght']!=0]['session lenght'].max()"
   ]
  },
  {
   "cell_type": "markdown",
   "metadata": {},
   "source": [
    "Так же как и в случае среднего времени пребывания пользователя на сайтеmean (mean site time), длина сессий в большинстве серий меньше минуты, минимальная длина - 1 секунда, максимальная - 1800 секунд (30 минут)."
   ]
  },
  {
   "cell_type": "markdown",
   "metadata": {},
   "source": [
    "**Распределение часа начала сессии (session start)**"
   ]
  },
  {
   "cell_type": "code",
   "execution_count": 143,
   "metadata": {},
   "outputs": [
    {
     "data": {
      "image/png": "[encoded data removed]",
      "text/plain": [
       "<Figure size 432x288 with 1 Axes>"
      ]
     },
     "metadata": {
      "needs_background": "light"
     },
     "output_type": "display_data"
    }
   ],
   "source": [
    "new_feature_train_df['session start'].plot.hist(bins=30, color='rosybrown', alpha=0.75, legend='session start')\n",
    "\n",
    "plt.xlabel('Начало сессии, час')\n",
    "plt.ylabel('Количество сессий')\n",
    "plt.grid()"
   ]
  },
  {
   "cell_type": "code",
   "execution_count": 155,
   "metadata": {},
   "outputs": [
    {
     "data": {
      "text/plain": [
       "10    33676\n",
       "9     31741\n",
       "11    30798\n",
       "14    27306\n",
       "8     25369\n",
       "13    22552\n",
       "15    21640\n",
       "16    18739\n",
       "12    17420\n",
       "17    12830\n",
       "18     3898\n",
       "21     1705\n",
       "19     1540\n",
       "22     1467\n",
       "23     1339\n",
       "20     1200\n",
       "7       341\n",
       "Name: session start, dtype: int64"
      ]
     },
     "execution_count": 155,
     "metadata": {},
     "output_type": "execute_result"
    }
   ],
   "source": [
    "new_feature_train_df['session start'].value_counts()"
   ]
  },
  {
   "cell_type": "code",
   "execution_count": 144,
   "metadata": {},
   "outputs": [
    {
     "data": {
      "image/png": "[encoded data removed]",
      "text/plain": [
       "<Figure size 432x288 with 1 Axes>"
      ]
     },
     "metadata": {
      "needs_background": "light"
     },
     "output_type": "display_data"
    }
   ],
   "source": [
    "new_feature_train_df[new_feature_train_df['target']==1]['session start'].plot.hist(bins=30, color='pink', alpha=0.75, legend='session start')\n",
    "plt.xlabel('Начало сессии, час')\n",
    "plt.ylabel('Количество сессий')\n",
    "plt.grid()"
   ]
  },
  {
   "cell_type": "markdown",
   "metadata": {},
   "source": [
    "Большинство сессий были начаты в промежуток времени 8-11 часов, также это видно на следующей диаграмме (по признаку time of day). У Алисы аналогичное распределение."
   ]
  },
  {
   "cell_type": "markdown",
   "metadata": {},
   "source": [
    "**Диаграмма времени суток начала сессии (time of day)**"
   ]
  },
  {
   "cell_type": "markdown",
   "metadata": {},
   "source": [
    "Для всех пользователей"
   ]
  },
  {
   "cell_type": "code",
   "execution_count": 41,
   "metadata": {},
   "outputs": [
    {
     "data": {
      "image/png": "[encoded data removed]",
      "text/plain": [
       "<Figure size 432x288 with 1 Axes>"
      ]
     },
     "metadata": {},
     "output_type": "display_data"
    }
   ],
   "source": [
    "morning, day, evening, night = new_feature_train_df['time of day'].value_counts()\n",
    "\n",
    "labels = ['morning','day','evening','night']\n",
    "values = [morning, day, evening, night]\n",
    "colors = ['oldlace', 'bisque', 'burlywood', 'rosybrown']\n",
    "\n",
    "plt.pie(values, labels=labels, autopct='%.1f%%', colors=colors)\n",
    "plt.title('Время суток');"
   ]
  },
  {
   "cell_type": "code",
   "execution_count": 61,
   "metadata": {},
   "outputs": [
    {
     "data": {
      "text/plain": [
       "morning    121925\n",
       "day        120487\n",
       "evening      8343\n",
       "night        2806\n",
       "Name: time of day, dtype: int64"
      ]
     },
     "execution_count": 61,
     "metadata": {},
     "output_type": "execute_result"
    }
   ],
   "source": [
    "new_feature_train_df['time of day'].value_counts()"
   ]
  },
  {
   "cell_type": "markdown",
   "metadata": {},
   "source": [
    "По диаграмме видно, что наибольшую активность пользователи проявляют утром и днем. Количество сессий, которые были начаты утром (121 925 сессий), ненамного больше тех, что начаты днем (120 487 сессий). Ночью было начато всего 2806 сессий, немного меньше, чем вечером (8343 сессии)"
   ]
  },
  {
   "cell_type": "markdown",
   "metadata": {},
   "source": [
    "Для Алисы"
   ]
  },
  {
   "cell_type": "code",
   "execution_count": 141,
   "metadata": {},
   "outputs": [
    {
     "data": {
      "image/png": "[encoded data removed]",
      "text/plain": [
       "<Figure size 432x288 with 1 Axes>"
      ]
     },
     "metadata": {},
     "output_type": "display_data"
    }
   ],
   "source": [
    "morning, day, evening, night = new_feature_train_df[new_feature_train_df['target']==1]['time of day'].value_counts()\n",
    "\n",
    "labels = ['morning','day','evening','night']\n",
    "values = [morning, day, evening, night]\n",
    "colors = ['lavenderblush', 'pink', 'thistle', 'plum']\n",
    "\n",
    "plt.pie(values, labels=labels, autopct='%.1f%%', colors=colors)\n",
    "plt.title('Время суток');"
   ]
  },
  {
   "cell_type": "markdown",
   "metadata": {},
   "source": [
    "Диаграмма для Алисы аналогична диаграмме для всех пользователей"
   ]
  },
  {
   "cell_type": "markdown",
   "metadata": {},
   "source": [
    "**Гистограмма распределения дня недели начала сессии (week day)**"
   ]
  },
  {
   "cell_type": "markdown",
   "metadata": {},
   "source": [
    "Все пользователи"
   ]
  },
  {
   "cell_type": "code",
   "execution_count": 38,
   "metadata": {},
   "outputs": [
    {
     "data": {
      "image/png": "[encoded data removed]",
      "text/plain": [
       "<Figure size 432x288 with 1 Axes>"
      ]
     },
     "metadata": {
      "needs_background": "light"
     },
     "output_type": "display_data"
    }
   ],
   "source": [
    "days_dict = dict(OrderedDict(sorted(new_feature_train_df['week day'].value_counts().items(), key=lambda t: t[0])))\n",
    "\n",
    "plt.vlines(x=list(days_dict.keys()), ymin=0, \\\n",
    "           ymax=list(days_dict.values()), color='rosybrown', alpha=0.75, linewidth=15)\n",
    "\n",
    "plt.xlabel('День недели')\n",
    "plt.ylabel('Количество сессий')\n",
    "plt.grid()\n",
    "DayOfWeekOfCall = [0, 1, 2, 3, 4, 5, 6]\n",
    "days_of_week =  ['Пн', 'Вт', 'Ср', 'Чт', 'Пт', 'Сб', 'Вс']\n",
    "\n",
    "for i, num in enumerate(list(days_dict.values())):\n",
    "    plt.text(i, num, num, horizontalalignment='center')\n",
    "plt.xticks(DayOfWeekOfCall, days_of_week);"
   ]
  },
  {
   "cell_type": "markdown",
   "metadata": {},
   "source": [
    "По гистограмме видно, что в будние дни (особенно в среду - 55971 сессия) пользователи чаще начинают сессии, чем в выходные."
   ]
  },
  {
   "cell_type": "markdown",
   "metadata": {},
   "source": [
    "Алиса"
   ]
  },
  {
   "cell_type": "code",
   "execution_count": 137,
   "metadata": {},
   "outputs": [
    {
     "data": {
      "image/png": "[encoded data removed]",
      "text/plain": [
       "<Figure size 432x288 with 1 Axes>"
      ]
     },
     "metadata": {
      "needs_background": "light"
     },
     "output_type": "display_data"
    }
   ],
   "source": [
    "days_dict_alice = dict(OrderedDict(sorted(new_feature_train_df[new_feature_train_df['target']==1]['week day'].value_counts().items(), key=lambda t: t[0])))\n",
    "\n",
    "plt.vlines(x=list(days_dict_alice.keys()), ymin=0, \\\n",
    "           ymax=list(days_dict_alice.values()), color='pink', alpha=0.75, linewidth=15)\n",
    "\n",
    "plt.xlabel('День недели')\n",
    "plt.ylabel('Количество сессий')\n",
    "plt.grid()\n",
    "DayOfWeekOfCall = [0, 1, 2, 3, 4, 5, 6]\n",
    "days_of_week =  ['Пн', 'Вт', 'Ср', 'Чт', 'Пт', 'Сб', 'Вс']\n",
    "\n",
    "for i, num in enumerate(list(days_dict_alice.values())):\n",
    "    plt.text(i, num, num, horizontalalignment='center')\n",
    "plt.xticks(DayOfWeekOfCall, days_of_week);"
   ]
  },
  {
   "cell_type": "markdown",
   "metadata": {},
   "source": [
    "у Алисы так же большинство сессий начиналось в будние дни, особенно со вторника по четверг. "
   ]
  },
  {
   "cell_type": "markdown",
   "metadata": {},
   "source": [
    "Все распределения и диаграммы признаков всех пользователей и Алисы похожи, чего-то выделяющегося в поведении Алисы нет."
   ]
  },
  {
   "cell_type": "markdown",
   "metadata": {},
   "source": [
    "### Кросс-валидация, построение кривых валидации и обучения"
   ]
  },
  {
   "cell_type": "code",
   "execution_count": 82,
   "metadata": {},
   "outputs": [],
   "source": [
    "def plot_scores(optimizer):\n",
    "    scores=[]\n",
    "    for i in range(len(optimizer.cv_results_['params'])):\n",
    "        scores.append([optimizer.cv_results_['params'][i]['C'], \n",
    "                optimizer.cv_results_['mean_test_score'][i],\n",
    "                optimizer.cv_results_['std_test_score'][i]])\n",
    "    scores = np.array(scores)\n",
    "    plt.semilogx(scores[:,0], scores[:,1])\n",
    "    plt.fill_between(scores[:,0], scores[:,1]-scores[:,2], \n",
    "                                  scores[:,1]+scores[:,2], alpha=0.3)\n",
    "    plt.xlabel('С')\n",
    "    plt.ylabel('ROC-AUC')\n",
    "    plt.show()"
   ]
  },
  {
   "cell_type": "code",
   "execution_count": 86,
   "metadata": {},
   "outputs": [],
   "source": [
    "def write_to_submission_file(predicted_labels, out_file,\n",
    "                             target='target', index_label=\"session_id\"):\n",
    "    # turn predictions into data frame and save as csv file\n",
    "    predicted_df = pd.DataFrame(predicted_labels,\n",
    "                                index = np.arange(1, predicted_labels.shape[0] + 1),\n",
    "                                columns=[target])\n",
    "    predicted_df.to_csv(out_file, index_label=index_label)"
   ]
  },
  {
   "cell_type": "markdown",
   "metadata": {},
   "source": [
    "### Кросс-валидация на LogisticRegression"
   ]
  },
  {
   "cell_type": "markdown",
   "metadata": {},
   "source": [
    "**Обучим модель только на исходных признаках**"
   ]
  },
  {
   "cell_type": "code",
   "execution_count": 116,
   "metadata": {},
   "outputs": [],
   "source": [
    "test_train_df = pd.concat([train_df, test_df], axis=0)\n",
    "test_train_df.to_csv('train_test_df.txt', \n",
    "                                 sep=' ', index=None, header=None)"
   ]
  },
  {
   "cell_type": "code",
   "execution_count": 117,
   "metadata": {},
   "outputs": [
    {
     "name": "stdout",
     "output_type": "stream",
     "text": [
      "Wall time: 17.1 s\n"
     ]
    }
   ],
   "source": [
    "%%time\n",
    "cv = CountVectorizer()\n",
    "with open('train_test_df.txt') as inp_train_test_file:\n",
    "    X = cv.fit_transform(inp_train_test_file)\n",
    "X = X[:,1:]\n",
    "X_train = X[:train_df.shape[0]]\n",
    "X_test = X[train_df.shape[0]:]\n",
    "y = train_df['target']"
   ]
  },
  {
   "cell_type": "code",
   "execution_count": 99,
   "metadata": {},
   "outputs": [
    {
     "name": "stdout",
     "output_type": "stream",
     "text": [
      "LogisticRegression(C=5) score = 0.9619962880543894\n"
     ]
    },
    {
     "data": {
      "image/png": "[encoded data removed]",
      "text/plain": [
       "<Figure size 432x288 with 1 Axes>"
      ]
     },
     "metadata": {
      "needs_background": "light"
     },
     "output_type": "display_data"
    }
   ],
   "source": [
    "param_grid = {'C': [0.01, 0.05, 0.1, 0.5, 1, 5, 10, 15, 20]}\n",
    "\n",
    "lr_clf = GridSearchCV(LogisticRegression(), param_grid, scoring='roc_auc', cv=5)\n",
    "lr_clf.fit(X_train, y)\n",
    "\n",
    "print(lr_clf.best_estimator_, 'score =', lr_clf.cv_results_['mean_test_score'].mean())\n",
    "plot_scores(lr_clf)"
   ]
  },
  {
   "cell_type": "code",
   "execution_count": 100,
   "metadata": {},
   "outputs": [],
   "source": [
    "predict = lr_clf.best_estimator_.predict_proba(X_test)[:,1:]\n",
    "write_to_submission_file(predict, 'answer_C-5_2')"
   ]
  },
  {
   "attachments": {
    "image.png": {
     "image/png": "[encoded data removed]"
    }
   },
   "cell_type": "markdown",
   "metadata": {},
   "source": [
    "![image.png](attachment:image.png)"
   ]
  },
  {
   "cell_type": "markdown",
   "metadata": {},
   "source": [
    "**Попробуем обучить модель на исходных и новых признаках**"
   ]
  },
  {
   "cell_type": "code",
   "execution_count": 170,
   "metadata": {},
   "outputs": [],
   "source": [
    "train_and_new_feature_df.drop(['time_diff' + str(j) for j in range(1,10)], axis=1, inplace=True)"
   ]
  },
  {
   "cell_type": "code",
   "execution_count": 171,
   "metadata": {},
   "outputs": [],
   "source": [
    "test_train_df = pd.concat([train_and_new_feature_df, test_and_new_feature_df], axis=0)\n",
    "test_train_df.to_csv('train_test_text.txt', \n",
    "                                 sep=' ', index=None, header=None)"
   ]
  },
  {
   "cell_type": "code",
   "execution_count": 172,
   "metadata": {},
   "outputs": [
    {
     "name": "stdout",
     "output_type": "stream",
     "text": [
      "Wall time: 18.6 s\n"
     ]
    }
   ],
   "source": [
    "%%time\n",
    "cv = CountVectorizer()\n",
    "with open('train_test_text.txt') as inp_train_test_file:\n",
    "    X = cv.fit_transform(inp_train_test_file)\n",
    "X = X[:,1:]\n",
    "X_train = X[:train_df.shape[0]]\n",
    "X_test = X[train_df.shape[0]:]\n",
    "y = train_df['target']"
   ]
  },
  {
   "cell_type": "code",
   "execution_count": 173,
   "metadata": {},
   "outputs": [
    {
     "name": "stdout",
     "output_type": "stream",
     "text": [
      "LogisticRegression(C=0.5) score = 0.9721318607029903\n"
     ]
    },
    {
     "data": {
      "image/png": "[encoded data removed]",
      "text/plain": [
       "<Figure size 432x288 with 1 Axes>"
      ]
     },
     "metadata": {
      "needs_background": "light"
     },
     "output_type": "display_data"
    }
   ],
   "source": [
    "param_grid = {'C': [0.01, 0.05, 0.1, 0.5, 1, 5, 10, 15, 20]}\n",
    "\n",
    "lr_clf = GridSearchCV(LogisticRegression(), param_grid, scoring='roc_auc', cv=5)\n",
    "lr_clf.fit(X_train, y)\n",
    "\n",
    "print(lr_clf.best_estimator_, 'score =', lr_clf.cv_results_['mean_test_score'].mean())\n",
    "plot_scores(lr_clf)"
   ]
  },
  {
   "cell_type": "code",
   "execution_count": 174,
   "metadata": {},
   "outputs": [],
   "source": [
    "predict = lr_clf.best_estimator_.predict_proba(X_test)[:,1:]\n",
    "write_to_submission_file(predict, 'answer_C-5')"
   ]
  },
  {
   "attachments": {
    "image-2.png": {
     "image/png": "[encoded data removed]"
    }
   },
   "cell_type": "markdown",
   "metadata": {},
   "source": [
    "![image-2.png](attachment:image-2.png)"
   ]
  },
  {
   "cell_type": "markdown",
   "metadata": {},
   "source": [
    "Качество стало выше"
   ]
  },
  {
   "cell_type": "markdown",
   "metadata": {},
   "source": [
    "Лучшее качество получилось на мдели LogisticRegression с C=5, обученной на исходных данных и новых признаках. Качество получилось хорошее, оно равно 0.91685.\n",
    "\n",
    "Построенная модель может применяться на практике, чтобы идентифицировать поведение определенного пользователя, также с ее помощью можно решать задачи, где необходимо идентифицировать несколько разных пользователей.\n",
    "\n",
    "Чтобы улучшить качество, можно поработать над дисбалансом классов, например, добавить в данные больше сессий Алисы"
   ]
  }
 ],
 "metadata": {
  "kernelspec": {
   "display_name": "Python 3",
   "language": "python",
   "name": "python3"
  },
  "language_info": {
   "codemirror_mode": {
    "name": "ipython",
    "version": 3
   },
   "file_extension": ".py",
   "mimetype": "text/x-python",
   "name": "python",
   "nbconvert_exporter": "python",
   "pygments_lexer": "ipython3",
   "version": "3.8.5"
  }
 },
 "nbformat": 4,
 "nbformat_minor": 4
}
